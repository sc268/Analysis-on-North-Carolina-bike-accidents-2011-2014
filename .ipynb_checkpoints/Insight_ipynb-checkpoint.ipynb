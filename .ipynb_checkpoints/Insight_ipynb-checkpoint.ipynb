{
 "metadata": {
  "name": "",
  "signature": "sha256:b6c5c2bb6483756f0827d896a10923d0d0f875c92cfc8f8becfecc495d7af987"
 },
 "nbformat": 3,
 "nbformat_minor": 0,
 "worksheets": []
}